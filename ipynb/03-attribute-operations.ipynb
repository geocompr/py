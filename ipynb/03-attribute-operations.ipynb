{
  "cells": [
    {
      "cell_type": "markdown",
      "metadata": {},
      "source": [
        "# Attribute data operations {#attr}\n",
        "\n",
        "## Prerequisites"
      ]
    },
    {
      "cell_type": "code",
      "metadata": {},
      "source": [
        "#| echo: false\n",
        "import pandas as pd\n",
        "import matplotlib.pyplot as plt\n",
        "pd.options.display.max_rows = 6\n",
        "pd.options.display.max_columns = 6\n",
        "pd.options.display.max_colwidth = 35\n",
        "plt.rcParams['figure.figsize'] = (5, 5)"
      ],
      "execution_count": null,
      "outputs": []
    },
    {
      "cell_type": "markdown",
      "metadata": {},
      "source": [
        "Packages..."
      ]
    },
    {
      "cell_type": "code",
      "metadata": {},
      "source": [
        "import numpy as np\n",
        "import pandas as pd\n",
        "import matplotlib.pyplot as plt\n",
        "import geopandas as gpd\n",
        "import rasterio"
      ],
      "execution_count": null,
      "outputs": []
    },
    {
      "cell_type": "markdown",
      "metadata": {},
      "source": [
        "Sample data..."
      ]
    },
    {
      "cell_type": "code",
      "metadata": {},
      "source": [
        "#| echo: false\n",
        "from pathlib import Path\n",
        "data_path = Path('data')\n",
        "file_path = Path('data/landsat.tif')\n",
        "if not file_path.exists():\n",
        "  if not data_path.is_dir():\n",
        "     os\n",
        "     os.mkdir(data_path)\n",
        "  import os\n",
        "  print('Attempting to get the data')\n",
        "  import requests\n",
        "  r = requests.get('https://github.com/geocompr/py/releases/download/0.1/landsat.tif')  \n",
        "  with open(file_path, 'wb') as f:\n",
        "    f.write(r.content)"
      ],
      "execution_count": null,
      "outputs": []
    },
    {
      "cell_type": "code",
      "metadata": {},
      "source": [
        "world = gpd.read_file('data/world.gpkg')\n",
        "src_elev = rasterio.open('data/elev.tif')\n",
        "src_multi_rast = rasterio.open('data/landsat.tif')"
      ],
      "execution_count": null,
      "outputs": []
    },
    {
      "cell_type": "markdown",
      "metadata": {},
      "source": [
        "## Introduction\n",
        "\n",
        "...\n",
        "\n",
        "## Vector attribute manipulation\n",
        "\n",
        "As mentioned previously (...), vector layers (`GeoDataFrame`, from package `geopandas`) are basically extended tables (`DataFrame` from package `pandas`), the difference being that a vector layer has a geometry column. Since `GeoDataFrame` extends `DataFrame`, all ordinary table-related operations from package `pandas` are supported for vector laters as well, as shown below.\n",
        "\n",
        "### Vector attribute subsetting {#sec-vector-attribute-subsetting}\n",
        "\n",
        "`pandas` supports several subsetting interfaces, though the most [recommended](https://stackoverflow.com/questions/38886080/python-pandas-series-why-use-loc) ones are:\n",
        "\n",
        "* `.loc`, which uses pandas indices, and\n",
        "* `.iloc`, which uses (implicit) numpy-style numeric indices.\n",
        "\n",
        "In both cases the method is followed by square brackets, and two indices, separated by a comma. Each index can comprise:\n",
        "\n",
        "* A specific value, as in `1`\n",
        "* A slice, as in `0:3`\n",
        "* A `list`, as in `[0,2,4]`\n",
        "* `:`—indicating \"all\" indices\n",
        "\n",
        "The once exception which we are going to with subsetting by indices is when selecting columns, directly using a list, as in `df[['a','b']]`, instead of `df.loc[:, ['a','b']]`, to select columns `'a'` and `'b'` from `df`.\n",
        "\n",
        "Here are few examples of subsetting the `GeoDataFrame` of world countries.\n",
        "\n",
        "Subsetting rows by position:"
      ]
    },
    {
      "cell_type": "code",
      "metadata": {},
      "source": [
        "world.iloc[0:3, :]"
      ],
      "execution_count": null,
      "outputs": []
    },
    {
      "cell_type": "markdown",
      "metadata": {},
      "source": [
        "Subsetting columns by position:"
      ]
    },
    {
      "cell_type": "code",
      "metadata": {},
      "source": [
        "world.iloc[:, 0:3]"
      ],
      "execution_count": null,
      "outputs": []
    },
    {
      "cell_type": "markdown",
      "metadata": {},
      "source": [
        "Subsetting rows and columns by position:"
      ]
    },
    {
      "cell_type": "code",
      "metadata": {},
      "source": [
        "world.iloc[0:3, 0:3]"
      ],
      "execution_count": null,
      "outputs": []
    },
    {
      "cell_type": "markdown",
      "metadata": {},
      "source": [
        "Subsetting columns by name:"
      ]
    },
    {
      "cell_type": "code",
      "metadata": {},
      "source": [
        "world[['name_long', 'geometry']]"
      ],
      "execution_count": null,
      "outputs": []
    },
    {
      "cell_type": "markdown",
      "metadata": {},
      "source": [
        "\"Slice\" of columns between given ones:"
      ]
    },
    {
      "cell_type": "code",
      "metadata": {},
      "source": [
        "world.loc[:, 'name_long':'pop']"
      ],
      "execution_count": null,
      "outputs": []
    },
    {
      "cell_type": "markdown",
      "metadata": {},
      "source": [
        "Subsetting by a boolean series:"
      ]
    },
    {
      "cell_type": "code",
      "metadata": {},
      "source": [
        "x = np.array([1, 1, 0, 0, 0, 0, 0, 1, 1, 0, 0], dtype=bool)\n",
        "world.iloc[:, x]"
      ],
      "execution_count": null,
      "outputs": []
    },
    {
      "cell_type": "markdown",
      "metadata": {},
      "source": [
        "We can remove specific columns using the `.drop` method and `axis=1` (i.e., columns):"
      ]
    },
    {
      "cell_type": "code",
      "metadata": {},
      "source": [
        "world.drop(['name_long', 'continent'], axis=1)"
      ],
      "execution_count": null,
      "outputs": []
    },
    {
      "cell_type": "markdown",
      "metadata": {},
      "source": [
        "We can rename (some of) the selected columns using the `.rename` method:"
      ]
    },
    {
      "cell_type": "code",
      "metadata": {},
      "source": [
        "world[['name_long', 'pop']].rename(columns={'pop': 'population'})"
      ],
      "execution_count": null,
      "outputs": []
    },
    {
      "cell_type": "markdown",
      "metadata": {},
      "source": [
        "The standard `numpy` comparison operators can be used in boolean subsetting, as illustrated in Table ...\n",
        "\n",
        "TABLE ...: Comparison operators that return Booleans (TRUE/FALSE).\n",
        "\n",
        "|`Symbol` | `Name` |\n",
        "|---|---|\n",
        "| `==` | Equal to |\n",
        "| `!=` | Not equal to |\n",
        "| `>`, `<` | Greater/Less than |\n",
        "| `>=`, `<=` | Greater/Less than or equal |\n",
        "| `&`, `|`, `~` | Logical operators: And, Or, Not |\n",
        "\n",
        "A demonstration of the utility of using logical vectors for subsetting is shown in the code chunk below. This creates a new object, small_countries, containing nations whose surface area is smaller than 10,000 km^2^:"
      ]
    },
    {
      "cell_type": "code",
      "metadata": {},
      "source": [
        "i_small = world['area_km2'] < 10000  ## a logical 'Series'\n",
        "small_countries = world[i_small]\n",
        "small_countries"
      ],
      "execution_count": null,
      "outputs": []
    },
    {
      "cell_type": "markdown",
      "metadata": {},
      "source": [
        "The intermediary `i_small` (short for index representing small countries) is a boolean `Series` that can be used to subset the seven smallest countries in the world by surface area. A more concise command, which omits the intermediary object, generates the same result:"
      ]
    },
    {
      "cell_type": "code",
      "metadata": {},
      "source": [
        "small_countries = world[world['area_km2'] < 10000]"
      ],
      "execution_count": null,
      "outputs": []
    },
    {
      "cell_type": "markdown",
      "metadata": {},
      "source": [
        "The various methods shown above can be chained for any combination with several subsetting steps. For example:"
      ]
    },
    {
      "cell_type": "code",
      "metadata": {},
      "source": [
        "world[world['continent'] == 'Asia']  \\\n",
        "    .loc[:, ['name_long', 'continent']]  \\\n",
        "    .iloc[0:5, :]"
      ],
      "execution_count": null,
      "outputs": []
    },
    {
      "cell_type": "markdown",
      "metadata": {},
      "source": [
        "### Vector attribute aggregation\n",
        "\n",
        "Aggregation involves summarizing data with one or more *grouping variables*, typically from columns in the table to be aggregated (geographic aggregation is covered in the next chapter). An example of attribute aggregation is calculating the number of people per continent based on country-level data (one row per country). The `world` dataset contains the necessary ingredients: the columns `pop` and `continent`, the population and the grouping variable, respectively. The aim is to find the `sum()` of country populations for each continent, resulting in a smaller data frame (aggregation is a form of data reduction and can be a useful early step when working with large datasets). This can be done with a combination of `.groupby` and `.sum`:"
      ]
    },
    {
      "cell_type": "code",
      "metadata": {},
      "source": [
        "world_agg1 = world[['continent', 'pop']].groupby('continent').sum()\n",
        "world_agg1"
      ],
      "execution_count": null,
      "outputs": []
    },
    {
      "cell_type": "markdown",
      "metadata": {},
      "source": [
        "The result is a (non-spatial) table with eight rows, one per continent, and two columns reporting the name and population of each continent.\n",
        "\n",
        "Alternatively, to include the geometry in the aggregation result, we can use the `.dissolve` method. That way, in addition to the summed population we also get the associated geometry per continent, i.e., the union of all countries. Note that we use the `by` parameter to choose which column(s) are used for grouping, and the `aggfunc` parameter to choose the summary function for non-geometry columns:"
      ]
    },
    {
      "cell_type": "code",
      "metadata": {},
      "source": [
        "world_agg2 = world[['continent', 'pop', 'geometry']] \\\n",
        "    .dissolve(by='continent', aggfunc='sum')\n",
        "world_agg2"
      ],
      "execution_count": null,
      "outputs": []
    },
    {
      "cell_type": "markdown",
      "metadata": {},
      "source": [
        "Here is a plot of the result:"
      ]
    },
    {
      "cell_type": "code",
      "metadata": {},
      "source": [
        "world_agg2.plot(column='pop');"
      ],
      "execution_count": null,
      "outputs": []
    },
    {
      "cell_type": "markdown",
      "metadata": {},
      "source": [
        "The resulting `world_agg2` object is a vector layer containing 8 features representing the continents of the world (and the open ocean). \n",
        "\n",
        "Other options for the `aggfunc` parameter in `.dissolve` [include](https://geopandas.org/en/stable/docs/user_guide/aggregation_with_dissolve.html):\n",
        "\n",
        "* `'first'`\n",
        "* `'last'`\n",
        "* `'min'`\n",
        "* `'max'`\n",
        "* `'sum'`\n",
        "* `'mean'`\n",
        "* `'median'`\n",
        "\n",
        "Additionally, we can pass a custom functiom.\n",
        "\n",
        "For example, here is how we can calculate the summed population, summed area, and count of countries, per continent. We do this in two steps, then join the results:"
      ]
    },
    {
      "cell_type": "code",
      "metadata": {},
      "source": [
        "world_agg3a = world[['continent', 'area_km2', 'geometry']] \\\n",
        "    .dissolve(by='continent', aggfunc='sum')\n",
        "world_agg3b = world[['continent', 'name_long', 'geometry']] \\\n",
        "    .dissolve(by='continent', aggfunc=lambda x: x.nunique()) \\\n",
        "    .rename(columns={'name_long': 'n'})\n",
        "world_agg = pd.merge(world_agg3a, world_agg3b, on='continent')"
      ],
      "execution_count": null,
      "outputs": []
    },
    {
      "cell_type": "markdown",
      "metadata": {},
      "source": [
        "...\n",
        "\n",
        "### Vector attribute joining {#sec-vector-attribute-joining}\n",
        "\n",
        "Join by attribute..."
      ]
    },
    {
      "cell_type": "code",
      "metadata": {},
      "source": [
        "coffee_data = pd.read_csv('data/coffee_data.csv')\n",
        "coffee_data"
      ],
      "execution_count": null,
      "outputs": []
    },
    {
      "cell_type": "markdown",
      "metadata": {},
      "source": [
        "Join by `'name_long'` column..."
      ]
    },
    {
      "cell_type": "code",
      "metadata": {},
      "source": [
        "world_coffee = pd.merge(world, coffee_data, on='name_long', how='left')\n",
        "world_coffee"
      ],
      "execution_count": null,
      "outputs": []
    },
    {
      "cell_type": "markdown",
      "metadata": {},
      "source": [
        "Plot... "
      ]
    },
    {
      "cell_type": "code",
      "metadata": {},
      "source": [
        "base = world.plot(color='white', edgecolor='lightgrey')\n",
        "world_coffee.plot(ax=base, column='coffee_production_2017');"
      ],
      "execution_count": null,
      "outputs": []
    },
    {
      "cell_type": "markdown",
      "metadata": {},
      "source": [
        "### Creating attributes and removing spatial information\n",
        "\n",
        "Calculate new column..."
      ]
    },
    {
      "cell_type": "code",
      "metadata": {},
      "source": [
        "world2 = world.copy()\n",
        "world2['pop_dens'] = world2['pop'] / world2['area_km2']"
      ],
      "execution_count": null,
      "outputs": []
    },
    {
      "cell_type": "markdown",
      "metadata": {},
      "source": [
        "Unite columns..."
      ]
    },
    {
      "cell_type": "code",
      "metadata": {},
      "source": [
        "world2['con_reg'] = world['continent'] + ':' + world2['region_un']\n",
        "world2 = world2.drop(['continent', 'region_un'], axis=1)"
      ],
      "execution_count": null,
      "outputs": []
    },
    {
      "cell_type": "markdown",
      "metadata": {},
      "source": [
        "Split column..."
      ]
    },
    {
      "cell_type": "code",
      "metadata": {},
      "source": [
        "world2[['continent', 'region_un']] = world2['con_reg'] \\\n",
        "    .str.split(':', expand=True)"
      ],
      "execution_count": null,
      "outputs": []
    },
    {
      "cell_type": "markdown",
      "metadata": {},
      "source": [
        "Rename..."
      ]
    },
    {
      "cell_type": "code",
      "metadata": {},
      "source": [
        "world2.rename(columns={'name_long': 'name'})"
      ],
      "execution_count": null,
      "outputs": []
    },
    {
      "cell_type": "markdown",
      "metadata": {},
      "source": [
        "Renaming all columns..."
      ]
    },
    {
      "cell_type": "code",
      "metadata": {},
      "source": [
        "new_names =['i', 'n', 'c', 'r', 's', 't', 'a', 'p', 'l', 'gP', 'geom']\n",
        "world.columns = new_names"
      ],
      "execution_count": null,
      "outputs": []
    },
    {
      "cell_type": "markdown",
      "metadata": {},
      "source": [
        "Dropping geometry..."
      ]
    },
    {
      "cell_type": "code",
      "metadata": {},
      "source": [
        "pd.DataFrame(world.drop(columns='geom'))"
      ],
      "execution_count": null,
      "outputs": []
    },
    {
      "cell_type": "markdown",
      "metadata": {},
      "source": [
        "## Manipulating raster objects\n",
        "\n",
        "### Raster subsetting\n",
        "\n",
        "When using `rasterio`, raster values are accessible through a `numpy` array, which can be imported with the `.read` method:"
      ]
    },
    {
      "cell_type": "code",
      "metadata": {},
      "source": [
        "elev = src_elev.read(1)\n",
        "elev"
      ],
      "execution_count": null,
      "outputs": []
    },
    {
      "cell_type": "markdown",
      "metadata": {},
      "source": [
        "Then, we can access any subset of cell values using `numpy` methods. For example:"
      ]
    },
    {
      "cell_type": "code",
      "metadata": {},
      "source": [
        "elev[0, 0]  ## Value at row 1, column 1"
      ],
      "execution_count": null,
      "outputs": []
    },
    {
      "cell_type": "markdown",
      "metadata": {},
      "source": [
        "Cell values can be modified by overwriting existing values in conjunction with a subsetting operation. The following expression, for example, sets the upper left cell of elev to 0:"
      ]
    },
    {
      "cell_type": "code",
      "metadata": {},
      "source": [
        "elev[0, 0] = 0\n",
        "elev"
      ],
      "execution_count": null,
      "outputs": []
    },
    {
      "cell_type": "markdown",
      "metadata": {},
      "source": [
        "Multiple cells can also be modified in this way:"
      ]
    },
    {
      "cell_type": "code",
      "metadata": {},
      "source": [
        "elev[0, 0:2] = 0\n",
        "elev"
      ],
      "execution_count": null,
      "outputs": []
    },
    {
      "cell_type": "markdown",
      "metadata": {},
      "source": [
        "### Summarizing raster objects\n",
        "\n",
        "Global summaries of raster values can be calculated by applying `numpy` summary functions---such as `np.mean`---on the array with raster values. For example:"
      ]
    },
    {
      "cell_type": "code",
      "metadata": {},
      "source": [
        "np.mean(elev)"
      ],
      "execution_count": null,
      "outputs": []
    },
    {
      "cell_type": "markdown",
      "metadata": {},
      "source": [
        "Note that \"No Data\"-safe functions--such as `np.nanmean`---should be used in case the raster contains \"No Data\" values which need to be ignored:"
      ]
    },
    {
      "cell_type": "code",
      "metadata": {},
      "source": [
        "elev[0, 2] = np.nan\n",
        "elev"
      ],
      "execution_count": null,
      "outputs": []
    },
    {
      "cell_type": "code",
      "metadata": {},
      "source": [
        "np.mean(elev)"
      ],
      "execution_count": null,
      "outputs": []
    },
    {
      "cell_type": "code",
      "metadata": {},
      "source": [
        "np.nanmean(elev)"
      ],
      "execution_count": null,
      "outputs": []
    },
    {
      "cell_type": "markdown",
      "metadata": {},
      "source": [
        "Raster value statistics can be visualized in a variety of ways. One approach is to \"flatten\" the raster values into a one-dimensional array, then use a graphical function such as `plt.hist` or `plt.boxplot` (from `matplotlib.pyplot`). For example:"
      ]
    },
    {
      "cell_type": "code",
      "metadata": {},
      "source": [
        "x = elev.flatten()\n",
        "plt.hist(x);"
      ],
      "execution_count": null,
      "outputs": []
    },
    {
      "cell_type": "markdown",
      "metadata": {},
      "source": [
        "## Exercises\n"
      ]
    }
  ],
  "metadata": {
    "kernelspec": {
      "name": "python3",
      "language": "python",
      "display_name": "Python 3 (ipykernel)"
    }
  },
  "nbformat": 4,
  "nbformat_minor": 4
}