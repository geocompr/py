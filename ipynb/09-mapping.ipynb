{
  "cells": [
    {
      "cell_type": "markdown",
      "metadata": {},
      "source": [
        "# Making maps with Python {#map-making}\n",
        "\n",
        "## Introduction\n",
        "\n",
        "- Geopandas explore has been used in previous chapters.\n",
        "- When to focus on visualisation? At the end of geographic data processing workflows.\n",
        "\n",
        "<!-- Input datasets: https://github.com/geocompr/spDatapy -->\n",
        "<!-- Decision of whether to use static or interactive. -->\n",
        "<!-- Flow diagram? -->"
      ]
    },
    {
      "cell_type": "code",
      "metadata": {},
      "source": [
        "#| echo: false\n",
        "#| label: getdata\n",
        "from pathlib import Path\n",
        "data_path = Path(\"data\")\n",
        "if data_path.is_dir():\n",
        "  pass\n",
        "  # print(\"path exists\") # directory exists\n",
        "else:\n",
        "  print(\"Attempting to get and unzip the data\")\n",
        "  import requests, zipfile, io\n",
        "  r = requests.get(\"https://github.com/geocompr/py/releases/download/0.1/data.zip\")\n",
        "  z = zipfile.ZipFile(io.BytesIO(r.content))\n",
        "  z.extractall(\".\")"
      ],
      "execution_count": null,
      "outputs": []
    },
    {
      "cell_type": "code",
      "metadata": {},
      "source": [
        "import matplotlib as mpl\n",
        "import geopandas as gpd\n",
        "nz = gpd.read_file(\"data/nz.gpkg\") "
      ],
      "execution_count": null,
      "outputs": []
    },
    {
      "cell_type": "markdown",
      "metadata": {},
      "source": [
        "## Static maps\n",
        "\n",
        "- Focus on matlibplot\n",
        "- First example: NZ with fill and borders\n",
        "- Scary matplotlib code here..."
      ]
    },
    {
      "cell_type": "code",
      "metadata": {},
      "source": [
        "#| layout-ncol: 3\n",
        "nz.plot(color=\"grey\");\n",
        "nz.plot(color=\"none\", edgecolor=\"blue\");\n",
        "nz.plot(color=\"grey\", edgecolor=\"blue\");"
      ],
      "execution_count": null,
      "outputs": []
    },
    {
      "cell_type": "markdown",
      "metadata": {},
      "source": [
        "<!-- # Add fill layer to nz shape\n",
        "tm_shape(nz) +\n",
        "  tm_fill() \n",
        "# Add border layer to nz shape\n",
        "tm_shape(nz) +\n",
        "  tm_borders() \n",
        "# Add fill and border layers to nz shape\n",
        "tm_shape(nz) +\n",
        "  tm_fill() +\n",
        "  tm_borders()  -->\n",
        "\n",
        "### Palettes\n",
        "### Layers\n",
        "### Faceted maps\n",
        "### Exporting maps as images\n",
        "\n",
        "<!-- ## Animated maps -->\n",
        "## Interactive maps\n",
        "\n",
        "- When are interactive maps useful\n",
        "- Holoviews: facetted plotting\n",
        "- Panel: allows you to create applications/dashboards\n",
        "\n",
        "### GeoPandas explore\n",
        "### Layers\n",
        "### Publishing interactive maps\n",
        "### Linking geographic and non-geographic visualisations\n",
        "\n",
        "<!-- ## Mapping applications Streamlit? -->\n",
        "\n",
        "## Exercises"
      ]
    }
  ],
  "metadata": {
    "kernelspec": {
      "display_name": "Python 3",
      "language": "python",
      "name": "python3"
    }
  },
  "nbformat": 4,
  "nbformat_minor": 4
}