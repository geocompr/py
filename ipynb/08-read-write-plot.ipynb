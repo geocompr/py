{
  "cells": [
    {
      "cell_type": "markdown",
      "metadata": {},
      "source": [
        "# Geographic data I/O {#read-write}\n",
        "\n",
        "## Introduction\n",
        "\n",
        "## Retrieving open data\n",
        "\n",
        "## Geographic data packages\n",
        "\n",
        "## Geographic web services\n",
        "\n",
        "## File formats\n",
        "\n",
        "## Data input (I)\n",
        "\n",
        "### Vector data\n",
        "\n",
        "### Raster data\n",
        "\n",
        "## Data output (O)\n",
        "\n",
        "### Vector data\n",
        "\n",
        "### Raster data\n",
        "\n",
        "## Visual outputs\n",
        "\n",
        "## Exercises"
      ]
    }
  ],
  "metadata": {
    "kernelspec": {
      "display_name": "Python 3",
      "language": "python",
      "name": "python3"
    }
  },
  "nbformat": 4,
  "nbformat_minor": 4
}