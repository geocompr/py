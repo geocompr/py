{
  "cells": [
    {
      "cell_type": "markdown",
      "metadata": {},
      "source": [
        "# Reprojecting geographic data {#reproj-geo-data}\n",
        "\n",
        "## Introduction\n",
        "\n",
        "## Coordinate Reference Systems\n",
        "\n",
        "## Querying and setting coordinate systems\n",
        "\n",
        "## Geometry operations on projected and unprojected data\n",
        "\n",
        "## When to reproject?\n",
        "\n",
        "## Which CRS to use?\n",
        "\n",
        "## Reprojecting vector geometries\n",
        "\n",
        "## Reprojecting raster geometries\n",
        "\n",
        "## Custom map projections\n",
        "\n",
        "## Exercises"
      ]
    }
  ],
  "metadata": {
    "kernelspec": {
      "display_name": "Python 3",
      "language": "python",
      "name": "python3"
    }
  },
  "nbformat": 4,
  "nbformat_minor": 4
}