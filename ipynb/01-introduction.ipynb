{
  "cells": [
    {
      "cell_type": "markdown",
      "metadata": {},
      "source": [
        "# (PART) Foundations {-}\n",
        "\n",
        "# Prerequisites\n",
        "\n",
        "* Python basics: basic data types, assignment, loops, function calls and definition\n",
        "* `numpy`: creating arrays, array data types, array reshaping, subsetting, assignment to subsets, vectorized operations, no-data values, masking and assignment\n",
        "* `pandas`: creating `Series` (vectors) and `DataFrame` (tables), indexes, subsetting, assignment to subsets, calculating new columns, sorting, filtering, renaming columns, aggregation, join, reading and writing\n",
        "\n",
        "## Introduction\n",
        "\n",
        "...\n"
      ]
    }
  ],
  "metadata": {
    "kernelspec": {
      "display_name": "Python 3",
      "language": "python",
      "name": "python3"
    }
  },
  "nbformat": 4,
  "nbformat_minor": 4
}